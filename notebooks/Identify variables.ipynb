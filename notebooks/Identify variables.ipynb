{
 "cells": [
  {
   "cell_type": "code",
   "execution_count": 1,
   "metadata": {},
   "outputs": [],
   "source": [
    "import os\n",
    "import esprima\n",
    "import pandas as pd"
   ]
  },
  {
   "cell_type": "code",
   "execution_count": 2,
   "metadata": {},
   "outputs": [],
   "source": [
    "## config\n",
    "DF_THRESHOLD = 0.1\n",
    "\n",
    "## change folder path here\n",
    "DATA_FOLDER_PATH = \"../../better_data/\""
   ]
  },
  {
   "cell_type": "markdown",
   "metadata": {},
   "source": [
    "### 1.1 Read files"
   ]
  },
  {
   "cell_type": "markdown",
   "metadata": {},
   "source": [
    "Reads all files in the folder and generates a dataframe with 3 columns - \"file_name\" with filename of document, \n",
    "\"file_content\" with entire contents of the file unparsed, \"tokens\" with list of string tokens in each document "
   ]
  },
  {
   "cell_type": "code",
   "execution_count": 3,
   "metadata": {},
   "outputs": [
    {
     "name": "stdout",
     "output_type": "stream",
     "text": [
      "Number of files in the data folder:  4561\n"
     ]
    }
   ],
   "source": [
    "files = os.listdir(DATA_FOLDER_PATH)\n",
    "print(\"Number of files in the data folder: \", len(files))"
   ]
  },
  {
   "cell_type": "code",
   "execution_count": 4,
   "metadata": {},
   "outputs": [],
   "source": [
    "def read_file(filename, df):\n",
    "    filepath  = os.path.join(DATA_FOLDER_PATH, filename)\n",
    "    with open(filepath,'r') as f:\n",
    "        file_content = f.read()\n",
    "        tokens = get_file_tokens(file_content)\n",
    "        new_row = {\"file_name\": filename, \"file_content\": file_content, \"tokens\": tokens}\n",
    "        df = df.append(new_row, ignore_index = True)\n",
    "    return df"
   ]
  },
  {
   "cell_type": "code",
   "execution_count": 5,
   "metadata": {},
   "outputs": [],
   "source": [
    "def get_file_tokens(content):\n",
    "    lines = content.split(\"\\n\")\n",
    "    literals = []\n",
    "    for line in lines:\n",
    "        line_tokens = esprima.tokenize(line)\n",
    "        for line_token in line_tokens:\n",
    "            if line_token.type==\"String\":\n",
    "                curr_literal = ((line_token.value)[1:-1])\n",
    "                literals.append(curr_literal)\n",
    "    return literals"
   ]
  },
  {
   "cell_type": "code",
   "execution_count": 6,
   "metadata": {},
   "outputs": [],
   "source": [
    "df = pd.DataFrame(columns=[\"file_name\", \"file_content\", \"tokens\"])\n",
    "for file in files[:500]:\n",
    "    df = read_file(file, df)"
   ]
  },
  {
   "cell_type": "markdown",
   "metadata": {},
   "source": [
    "### 1.2 Build vocabulary and generate document frequency of each word"
   ]
  },
  {
   "cell_type": "markdown",
   "metadata": {},
   "source": [
    "combines tokens from all the files to create \"vocab_df\" dataframe with \"token\" column with unique tokens from all files"
   ]
  },
  {
   "cell_type": "code",
   "execution_count": 7,
   "metadata": {},
   "outputs": [
    {
     "data": {
      "text/plain": [
       "['https://better.com/',\n",
       " \"See today\\\\'s rates\",\n",
       " 'See rates',\n",
       " 'First, are you buying?',\n",
       " \"I\\\\'m going to open houses\",\n",
       " 'See how much I can afford',\n",
       " 'Not Sure',\n",
       " '30000',\n",
       " 'City, state, or zip',\n",
       " 'CityNameWithZipCode 30000 CA, USA',\n",
       " 'Next',\n",
       " 'Primary residence',\n",
       " 'Single Family',\n",
       " 'Next',\n",
       " 'user0@gmail.com',\n",
       " 'Email',\n",
       " 'Continue']"
      ]
     },
     "execution_count": 7,
     "metadata": {},
     "output_type": "execute_result"
    }
   ],
   "source": [
    "df[\"tokens\"][0]"
   ]
  },
  {
   "cell_type": "code",
   "execution_count": 8,
   "metadata": {},
   "outputs": [
    {
     "data": {
      "text/plain": [
       "\"  await goto('https://better.com/');\\n  await click('See today\\\\'s rates');\\n  await click('See rates', near('First, are you buying?'));\\n  await click(near('I\\\\'m going to open houses'));\\n  await click(near('See how much I can afford'));\\n  await click(near('Not Sure'));\\n  await write('30000', into(textBox('City, state, or zip'))) // <--- user entered text\\n  await click('CityNameWithZipCode 30000 CA, USA'); // <=== choice presented to user\\n  await click('Next');\\n  await click(near('Primary residence'));\\n  await click(near('Single Family'));\\n  await click('Next');\\n  await write('user0@gmail.com', into(textBox(near('Email'))))\\n  await click('Continue');\\n\""
      ]
     },
     "execution_count": 8,
     "metadata": {},
     "output_type": "execute_result"
    }
   ],
   "source": [
    "df[\"file_content\"][0]"
   ]
  },
  {
   "cell_type": "code",
   "execution_count": 9,
   "metadata": {},
   "outputs": [],
   "source": [
    "vocab_set = set()\n",
    "for idx, row in df.iterrows():\n",
    "    tokens= row[\"tokens\"]\n",
    "    vocab_set.update(tokens)"
   ]
  },
  {
   "cell_type": "code",
   "execution_count": 10,
   "metadata": {},
   "outputs": [
    {
     "data": {
      "text/html": [
       "<div>\n",
       "<style scoped>\n",
       "    .dataframe tbody tr th:only-of-type {\n",
       "        vertical-align: middle;\n",
       "    }\n",
       "\n",
       "    .dataframe tbody tr th {\n",
       "        vertical-align: top;\n",
       "    }\n",
       "\n",
       "    .dataframe thead th {\n",
       "        text-align: right;\n",
       "    }\n",
       "</style>\n",
       "<table border=\"1\" class=\"dataframe\">\n",
       "  <thead>\n",
       "    <tr style=\"text-align: right;\">\n",
       "      <th></th>\n",
       "      <th>token</th>\n",
       "    </tr>\n",
       "  </thead>\n",
       "  <tbody>\n",
       "    <tr>\n",
       "      <th>0</th>\n",
       "      <td>CityNameWithZipCode 30119 CA, USA</td>\n",
       "    </tr>\n",
       "    <tr>\n",
       "      <th>1</th>\n",
       "      <td>30171</td>\n",
       "    </tr>\n",
       "    <tr>\n",
       "      <th>2</th>\n",
       "      <td>362721</td>\n",
       "    </tr>\n",
       "    <tr>\n",
       "      <th>3</th>\n",
       "      <td>155105</td>\n",
       "    </tr>\n",
       "    <tr>\n",
       "      <th>4</th>\n",
       "      <td>CityNameWithZipCode 30199 CA, USA</td>\n",
       "    </tr>\n",
       "  </tbody>\n",
       "</table>\n",
       "</div>"
      ],
      "text/plain": [
       "                               token\n",
       "0  CityNameWithZipCode 30119 CA, USA\n",
       "1                              30171\n",
       "2                             362721\n",
       "3                             155105\n",
       "4  CityNameWithZipCode 30199 CA, USA"
      ]
     },
     "execution_count": 10,
     "metadata": {},
     "output_type": "execute_result"
    }
   ],
   "source": [
    "vocab_df = pd.DataFrame(list(vocab_set), columns=[\"token\"])\n",
    "vocab_df.head()"
   ]
  },
  {
   "cell_type": "markdown",
   "metadata": {},
   "source": [
    "### 1.3 get document frequency"
   ]
  },
  {
   "cell_type": "markdown",
   "metadata": {},
   "source": [
    "create a new column \"df_count\" in \"vocab_df\" with document frequencies of the tokens"
   ]
  },
  {
   "cell_type": "code",
   "execution_count": 11,
   "metadata": {},
   "outputs": [
    {
     "data": {
      "text/plain": [
       "500"
      ]
     },
     "execution_count": 11,
     "metadata": {},
     "output_type": "execute_result"
    }
   ],
   "source": [
    "num_docs = len(df)\n",
    "num_docs"
   ]
  },
  {
   "cell_type": "code",
   "execution_count": 12,
   "metadata": {},
   "outputs": [],
   "source": [
    "def get_df_count(vocab_row):\n",
    "    count = 0\n",
    "    for idx, df_row in df.iterrows():\n",
    "        if vocab_row[\"token\"] in df_row[\"tokens\"]:\n",
    "            count+=1\n",
    "    count = count/num_docs\n",
    "    return count"
   ]
  },
  {
   "cell_type": "code",
   "execution_count": 13,
   "metadata": {},
   "outputs": [
    {
     "name": "stdout",
     "output_type": "stream",
     "text": [
      "CPU times: user 33.9 s, sys: 5.5 ms, total: 33.9 s\n",
      "Wall time: 33.9 s\n"
     ]
    }
   ],
   "source": [
    "%%time\n",
    "# create a vocab df from all unique tokens \n",
    "# document frequency(token) = no.of documents with the token/total num of documents\n",
    "vocab_df[\"df_count\"] = vocab_df.apply(get_df_count, axis = 1)"
   ]
  },
  {
   "cell_type": "code",
   "execution_count": 14,
   "metadata": {},
   "outputs": [
    {
     "data": {
      "text/html": [
       "<div>\n",
       "<style scoped>\n",
       "    .dataframe tbody tr th:only-of-type {\n",
       "        vertical-align: middle;\n",
       "    }\n",
       "\n",
       "    .dataframe tbody tr th {\n",
       "        vertical-align: top;\n",
       "    }\n",
       "\n",
       "    .dataframe thead th {\n",
       "        text-align: right;\n",
       "    }\n",
       "</style>\n",
       "<table border=\"1\" class=\"dataframe\">\n",
       "  <thead>\n",
       "    <tr style=\"text-align: right;\">\n",
       "      <th></th>\n",
       "      <th>token</th>\n",
       "      <th>df_count</th>\n",
       "    </tr>\n",
       "  </thead>\n",
       "  <tbody>\n",
       "    <tr>\n",
       "      <th>0</th>\n",
       "      <td>https://better.com/</td>\n",
       "      <td>1.000</td>\n",
       "    </tr>\n",
       "    <tr>\n",
       "      <th>1</th>\n",
       "      <td>Continue</td>\n",
       "      <td>0.952</td>\n",
       "    </tr>\n",
       "    <tr>\n",
       "      <th>2</th>\n",
       "      <td>Email</td>\n",
       "      <td>0.952</td>\n",
       "    </tr>\n",
       "    <tr>\n",
       "      <th>3</th>\n",
       "      <td>Next</td>\n",
       "      <td>0.952</td>\n",
       "    </tr>\n",
       "    <tr>\n",
       "      <th>4</th>\n",
       "      <td>See today\\'s rates</td>\n",
       "      <td>0.874</td>\n",
       "    </tr>\n",
       "    <tr>\n",
       "      <th>...</th>\n",
       "      <td>...</td>\n",
       "      <td>...</td>\n",
       "    </tr>\n",
       "    <tr>\n",
       "      <th>1110</th>\n",
       "      <td>user30@gmail.com</td>\n",
       "      <td>0.002</td>\n",
       "    </tr>\n",
       "    <tr>\n",
       "      <th>1111</th>\n",
       "      <td>209382</td>\n",
       "      <td>0.002</td>\n",
       "    </tr>\n",
       "    <tr>\n",
       "      <th>1112</th>\n",
       "      <td>151 Elm</td>\n",
       "      <td>0.002</td>\n",
       "    </tr>\n",
       "    <tr>\n",
       "      <th>1113</th>\n",
       "      <td>399454</td>\n",
       "      <td>0.002</td>\n",
       "    </tr>\n",
       "    <tr>\n",
       "      <th>1114</th>\n",
       "      <td>30227</td>\n",
       "      <td>0.002</td>\n",
       "    </tr>\n",
       "  </tbody>\n",
       "</table>\n",
       "<p>1115 rows × 2 columns</p>\n",
       "</div>"
      ],
      "text/plain": [
       "                    token  df_count\n",
       "0     https://better.com/     1.000\n",
       "1                Continue     0.952\n",
       "2                   Email     0.952\n",
       "3                    Next     0.952\n",
       "4      See today\\'s rates     0.874\n",
       "...                   ...       ...\n",
       "1110     user30@gmail.com     0.002\n",
       "1111               209382     0.002\n",
       "1112              151 Elm     0.002\n",
       "1113               399454     0.002\n",
       "1114                30227     0.002\n",
       "\n",
       "[1115 rows x 2 columns]"
      ]
     },
     "execution_count": 14,
     "metadata": {},
     "output_type": "execute_result"
    }
   ],
   "source": [
    "#sort the \n",
    "vocab_df.sort_values(by=[\"df_count\"], ascending= False, ignore_index= True)"
   ]
  },
  {
   "cell_type": "code",
   "execution_count": 15,
   "metadata": {},
   "outputs": [
    {
     "name": "stdout",
     "output_type": "stream",
     "text": [
      "Total number of tokens:  1115\n",
      "Length of variables:  1085\n"
     ]
    }
   ],
   "source": [
    "variables = vocab_df[vocab_df[\"df_count\"]<DF_THRESHOLD][\"token\"]\n",
    "print(\"Total number of tokens: \", len(vocab_df)) \n",
    "print(\"Length of variables: \", len(variables))\n",
    "variables= list(variables)"
   ]
  },
  {
   "cell_type": "code",
   "execution_count": 16,
   "metadata": {},
   "outputs": [
    {
     "data": {
      "text/plain": [
       "['CityNameWithZipCode 30119 CA, USA',\n",
       " '30171',\n",
       " '362721',\n",
       " '155105',\n",
       " 'CityNameWithZipCode 30199 CA, USA',\n",
       " 'CityNameWithZipCode 30049 CA, USA',\n",
       " 'CityNameWithZipCode 30212 CA, USA',\n",
       " '30103',\n",
       " '490 Elm Street, San Carlos, CA',\n",
       " 'user230@gmail.com']"
      ]
     },
     "execution_count": 16,
     "metadata": {},
     "output_type": "execute_result"
    }
   ],
   "source": [
    "variables[:10]"
   ]
  },
  {
   "cell_type": "markdown",
   "metadata": {},
   "source": [
    "### 1.4 visualizations/analysis"
   ]
  },
  {
   "cell_type": "markdown",
   "metadata": {},
   "source": [
    "### 2. Replace the variables in the original dataframe "
   ]
  },
  {
   "cell_type": "markdown",
   "metadata": {},
   "source": [
    "\"replaced_file_content\" column is created by replaces variables in \"file_content\" with \"__variable__\""
   ]
  },
  {
   "cell_type": "code",
   "execution_count": 17,
   "metadata": {},
   "outputs": [],
   "source": [
    "def replace_variables(row, v):\n",
    "    repl_word = \"__variable__\"\n",
    "    for variable in v:\n",
    "        row = row.replace(variable, \"__variable__\")\n",
    "    return row"
   ]
  },
  {
   "cell_type": "code",
   "execution_count": 18,
   "metadata": {},
   "outputs": [
    {
     "name": "stdout",
     "output_type": "stream",
     "text": [
      "CPU times: user 129 ms, sys: 4.03 ms, total: 133 ms\n",
      "Wall time: 132 ms\n"
     ]
    }
   ],
   "source": [
    "%%time\n",
    "# replaced_file_content column is created by modifying \n",
    "# replacing the variables with __variable__\n",
    "df[\"replaced_file_content\"] = df[\"file_content\"].apply(replace_variables, v=variables)"
   ]
  },
  {
   "cell_type": "code",
   "execution_count": 19,
   "metadata": {},
   "outputs": [
    {
     "data": {
      "text/plain": [
       "\"  await goto('https://better.com/');\\n  await click('See today\\\\'s rates');\\n  await click('See rates', near('First, are you buying?'));\\n  await click(near('I\\\\'m going to open houses'));\\n  await click(near('See how much I can afford'));\\n  await click(near('Not Sure'));\\n  await write('__variable__', into(textBox('City, state, or zip'))) // <--- user entered text\\n  await click('CityNameWithZipCode __variable__ CA, USA'); // <=== choice presented to user\\n  await click('Next');\\n  await click(near('Primary residence'));\\n  await click(near('Single Family'));\\n  await click('Next');\\n  await write('__variable__', into(textBox(near('Email'))))\\n  await click('Continue');\\n\""
      ]
     },
     "execution_count": 19,
     "metadata": {},
     "output_type": "execute_result"
    }
   ],
   "source": [
    "df[\"replaced_file_content\"][0]"
   ]
  },
  {
   "cell_type": "code",
   "execution_count": 20,
   "metadata": {},
   "outputs": [
    {
     "data": {
      "text/plain": [
       "\"  await goto('https://better.com/');\\n  await click('See today\\\\'s rates');\\n  await click('See rates', near('First, are you buying?'));\\n  await click(near('I\\\\'m going to open houses'));\\n  await click(near('Estimate a home\\\\'s cost'));\\n  await click(near('0–3 months'));\\n  await write('__variable__', into(textBox('City, state, or zip'))) // <--- user entered text\\n  await click('__variable__'); // <=== choice presented to user\\n  await click('Next');\\n  await click(near('Primary residence'));\\n  await click(near('Single Family'));\\n  await click('Next');\\n  await write('__variable__', into(textBox(near('Email'))))\\n  await click('Continue');\\n\""
      ]
     },
     "execution_count": 20,
     "metadata": {},
     "output_type": "execute_result"
    }
   ],
   "source": [
    "df[\"replaced_file_content\"][1]"
   ]
  },
  {
   "cell_type": "markdown",
   "metadata": {},
   "source": [
    "Basic Intuition: \n",
    "\n",
    "Literals in click method are not variables and first literal in write method is usually a variable.\n",
    "Threshold can be tuned by basic vizualization of few files at this step. \n",
    "If we see too many literals that are being replaced, we can lower the DF_THRESHOLD value at cell2."
   ]
  },
  {
   "cell_type": "code",
   "execution_count": 21,
   "metadata": {},
   "outputs": [],
   "source": [
    "# def replace_tokens(row, v):\n",
    "#     repl_word = \"__variable__\"\n",
    "#     row = [repl_word if t in v else t for t in row]\n",
    "#     return row"
   ]
  },
  {
   "cell_type": "code",
   "execution_count": 22,
   "metadata": {},
   "outputs": [],
   "source": [
    "# %%time\n",
    "# # replaced_tokens column is created by replacing the variab with __variable__\n",
    "# df[\"replaced_tokens\"] = df[\"tokens\"].apply(replace_tokens, v= variables)"
   ]
  },
  {
   "cell_type": "code",
   "execution_count": 23,
   "metadata": {},
   "outputs": [],
   "source": [
    "# df[\"replaced_tokens\"][0]"
   ]
  },
  {
   "cell_type": "code",
   "execution_count": 24,
   "metadata": {},
   "outputs": [
    {
     "name": "stdout",
     "output_type": "stream",
     "text": [
      "Total number of documents:  500\n",
      "Total number of unique documents:  475\n",
      "Total number of unique documents after variable replacement:  49\n"
     ]
    }
   ],
   "source": [
    "print(\"Total number of documents: \", len(df))\n",
    "print(\"Total number of unique documents: \", df[\"file_content\"].nunique())\n",
    "print(\"Total number of unique documents after variable replacement: \", df[\"replaced_file_content\"].nunique())"
   ]
  },
  {
   "cell_type": "code",
   "execution_count": null,
   "metadata": {},
   "outputs": [],
   "source": []
  }
 ],
 "metadata": {
  "kernelspec": {
   "display_name": "Python 3",
   "language": "python",
   "name": "python3"
  },
  "language_info": {
   "codemirror_mode": {
    "name": "ipython",
    "version": 3
   },
   "file_extension": ".py",
   "mimetype": "text/x-python",
   "name": "python",
   "nbconvert_exporter": "python",
   "pygments_lexer": "ipython3",
   "version": "3.8.5"
  }
 },
 "nbformat": 4,
 "nbformat_minor": 4
}
